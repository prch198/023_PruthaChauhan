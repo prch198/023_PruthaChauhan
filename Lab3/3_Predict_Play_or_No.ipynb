{
 "cells": [
  {
   "cell_type": "code",
   "execution_count": 1,
   "metadata": {
    "colab": {
     "base_uri": "https://localhost:8080/"
    },
    "id": "C0_Noz2PUrgQ",
    "outputId": "d356a34e-0f49-4b04-f123-e858b7f45aac"
   },
   "outputs": [],
   "source": [
    "import numpy as np\n",
    "import pandas as pd\n",
    "import matplotlib.pyplot as plt\n",
    "from sklearn import datasets, preprocessing\n",
    "from sklearn.naive_bayes import GaussianNB, MultinomialNB"
   ]
  },
  {
   "cell_type": "code",
   "execution_count": 2,
   "metadata": {
    "id": "kSeZ1OxKVGgk"
   },
   "outputs": [],
   "source": [
    "main_data = pd.read_csv(\"Dataset1.csv\")"
   ]
  },
  {
   "cell_type": "code",
   "execution_count": 3,
   "metadata": {
    "colab": {
     "base_uri": "https://localhost:8080/"
    },
    "id": "HY_foL8ZV9BH",
    "outputId": "77709d3f-70c9-41c0-a0e9-3aa7610ae6de"
   },
   "outputs": [
    {
     "name": "stdout",
     "output_type": "stream",
     "text": [
      "\n",
      "\n",
      "Heading :- Outlook\n",
      "\n",
      "\n",
      "Heading :- Temp\n",
      "\n",
      "\n",
      "Heading :- Humidity\n",
      "\n",
      "\n",
      "Heading :- Wind\n"
     ]
    }
   ],
   "source": [
    "# labelEncoder Object\n",
    "label_encoder = preprocessing.LabelEncoder()\n",
    "Y_rows=None\n",
    "for data_heading in main_data:\n",
    "  if data_heading!=\"Play\":\n",
    "    print(f\"\\n\\nHeading :- {data_heading}\")\n",
    "    #print(list(main_data[data_heading]))\n",
    "    dummy = pd.get_dummies(main_data[data_heading])\n",
    "    #print(\"\\n\\nDummy :\\n\",dummy)\n",
    "    main_data = main_data.drop([data_heading],axis=1)\n",
    "    main_data = pd.concat([main_data,dummy],axis=1)\n",
    "    #print(\"\\n\\nFinal Data :\\n\",main_data)\n",
    "  else:\n",
    "    Y_rows = label_encoder.fit_transform(main_data[data_heading])\n",
    "    main_data = main_data.drop([data_heading],axis=1)"
   ]
  },
  {
   "cell_type": "code",
   "execution_count": 4,
   "metadata": {
    "colab": {
     "base_uri": "https://localhost:8080/"
    },
    "id": "g1TyyNFFYKxi",
    "outputId": "c64ec019-829d-474f-9f33-ebc698b029d7"
   },
   "outputs": [
    {
     "name": "stdout",
     "output_type": "stream",
     "text": [
      "    O  R  S  C  H  M  High  Low  Normal  F  T\n",
      "0   0  1  0  0  1  0     0    0       1  1  0\n",
      "1   0  1  0  0  1  0     1    0       0  0  1\n",
      "2   1  0  0  0  1  0     0    0       1  1  0\n",
      "3   0  0  1  0  0  1     0    0       1  1  0\n",
      "4   0  0  1  1  0  0     0    0       1  1  0\n",
      "5   0  0  1  1  0  0     0    1       0  0  1\n",
      "6   1  0  0  1  0  0     0    0       1  0  1\n",
      "7   0  1  0  0  0  1     0    0       1  1  0\n",
      "8   0  1  0  1  0  0     0    1       0  1  0\n",
      "9   0  0  1  0  0  1     1    0       0  1  0\n",
      "10  0  1  0  0  0  1     1    0       0  0  1\n",
      "11  1  0  0  0  0  1     0    1       0  0  1\n",
      "12  1  0  0  0  1  0     0    0       1  1  0\n",
      "13  0  0  1  0  0  1     0    0       1  0  1 [0 0 1 1 1 0 1 0 1 1 1 1 1 0]\n"
     ]
    }
   ],
   "source": [
    "print(main_data,Y_rows)"
   ]
  },
  {
   "cell_type": "code",
   "execution_count": 5,
   "metadata": {
    "id": "PWNrhz44XZxF"
   },
   "outputs": [],
   "source": [
    "from sklearn.model_selection import train_test_split\n",
    "\n",
    "X_train, X_test, Y_train, Y_test = train_test_split(main_data, Y_rows, test_size = 0.30, random_state = 54)"
   ]
  },
  {
   "cell_type": "code",
   "execution_count": 7,
   "metadata": {
    "colab": {
     "base_uri": "https://localhost:8080/"
    },
    "id": "PWXmsSDpc4qr",
    "outputId": "7dd3b59b-8eb9-470f-db84-f94d958e748c"
   },
   "outputs": [
    {
     "name": "stdout",
     "output_type": "stream",
     "text": [
      "    O  R  S  C  H  M  High  Low  Normal  F  T\n",
      "4   0  0  1  1  0  0     0    0       1  1  0\n",
      "12  1  0  0  0  1  0     0    0       1  1  0\n",
      "9   0  0  1  0  0  1     1    0       0  1  0\n",
      "3   0  0  1  0  0  1     0    0       1  1  0\n",
      "13  0  0  1  0  0  1     0    0       1  0  1\n",
      "[0 1 0 0 0]\n"
     ]
    }
   ],
   "source": [
    "# create model\n",
    "model = MultinomialNB()\n",
    "model.fit(X_train, Y_train)\n",
    "\n",
    "# Predict Y from X_text\n",
    "Y_predicted = model.predict(X_test)\n",
    "print(X_test)\n",
    "print(Y_predicted)"
   ]
  },
  {
   "cell_type": "code",
   "execution_count": 11,
   "metadata": {
    "colab": {
     "base_uri": "https://localhost:8080/"
    },
    "id": "ABRk0kUZc9zH",
    "outputId": "609f6236-6be9-472a-c7ed-a8140c2b1f02"
   },
   "outputs": [
    {
     "name": "stdout",
     "output_type": "stream",
     "text": [
      "Accuracy is :- 0.4\n",
      "precision :- 1.0\n",
      "recall :- 0.25\n"
     ]
    }
   ],
   "source": [
    "from sklearn import metrics\n",
    "\n",
    "print(f\"Accuracy is :- {metrics.accuracy_score(Y_test, Y_predicted)}\")\n",
    "\n",
    "# print precision and recall\n",
    "from sklearn.metrics import precision_score\n",
    "from sklearn.metrics import recall_score\n",
    "\n",
    "\n",
    "precision = precision_score(Y_test, Y_predicted)\n",
    "recall = recall_score(Y_test, Y_predicted)\n",
    "\n",
    "\n",
    "print(f\"precision :- {precision}\")\n",
    "print(f\"recall :- {recall}\")"
   ]
  },
  {
   "cell_type": "code",
   "execution_count": 10,
   "metadata": {
    "colab": {
     "base_uri": "https://localhost:8080/"
    },
    "id": "YC_S7e3KdAdE",
    "outputId": "6bb0fde6-08c3-4f4c-8a2b-7352b9c22592"
   },
   "outputs": [
    {
     "name": "stdout",
     "output_type": "stream",
     "text": [
      "final prediction :- [0]\n",
      "final prediction :- [1]\n",
      "final prediction :- [1]\n"
     ]
    }
   ],
   "source": [
    "# Excersice\n",
    "# Task1\n",
    "# Temp = \"Hot\" and Weather = \"overcast\"\n",
    "#              1  1  0\n",
    "#Outlook(O,R,S)=0  1  0,\tTemp(C,H,M)=0  1  0,\tHumidity(High,Low,Normal)=0  0 1,\tWind(F,T)=1,0,\tPlay=0\n",
    "output = model.predict([[0,1,0, 0,1,0  ,0,0,1 ,1,0]])\n",
    "print(f\"final prediction :- {output}\")\n",
    "\n",
    "#Overcast , High, Normal, False\n",
    "output = model.predict([[1,0,0  ,0,1,0    ,0,0,1  ,1,0]])\n",
    "print(f\"final prediction :- {output}\")\n",
    "\n",
    "# Excersice\n",
    "# Task1\n",
    "\n",
    "# Overcast, Mild, Normal, True\n",
    "\n",
    "output = model.predict([[1,0,0, 0,0,1 ,0,0,1  ,0,1]])\n",
    "print(f\"final prediction :- {output}\")"
   ]
  },
  {
   "cell_type": "code",
   "execution_count": null,
   "metadata": {
    "id": "vEzK5DSPdHmI"
   },
   "outputs": [],
   "source": []
  }
 ],
 "metadata": {
  "colab": {
   "collapsed_sections": [],
   "name": "Lab_03_Predict_Play_or_no.ipynb",
   "provenance": []
  },
  "kernelspec": {
   "display_name": "Python 3",
   "language": "python",
   "name": "python3"
  },
  "language_info": {
   "codemirror_mode": {
    "name": "ipython",
    "version": 3
   },
   "file_extension": ".py",
   "mimetype": "text/x-python",
   "name": "python",
   "nbconvert_exporter": "python",
   "pygments_lexer": "ipython3",
   "version": "3.7.5"
  }
 },
 "nbformat": 4,
 "nbformat_minor": 1
}
