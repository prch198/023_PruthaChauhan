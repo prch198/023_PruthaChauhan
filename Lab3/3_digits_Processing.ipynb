{
 "cells": [
  {
   "cell_type": "markdown",
   "metadata": {
    "id": "HXrK6svtkz2W"
   },
   "source": [
    "Roll Number--23  \n",
    "Apply algorithm on digits dataset - LabelEncoding of features: and Train test Division 80%-20%"
   ]
  },
  {
   "cell_type": "code",
   "execution_count": 13,
   "metadata": {
    "id": "-pDdGAYBYO6v"
   },
   "outputs": [],
   "source": [
    "import numpy as np\n",
    "import pandas as pd\n",
    "import matplotlib.pyplot as plt\n",
    "from sklearn import datasets, preprocessing\n",
    "from sklearn.naive_bayes import GaussianNB, MultinomialNB\n",
    "from sklearn.model_selection import train_test_split\n",
    "from sklearn import metrics\n",
    "from sklearn.metrics import precision_score\n",
    "from sklearn.metrics import recall_score\n",
    "from sklearn.datasets import load_digits"
   ]
  },
  {
   "cell_type": "code",
   "execution_count": 14,
   "metadata": {
    "colab": {
     "base_uri": "https://localhost:8080/",
     "height": 302
    },
    "id": "jwuo0c6LZ27v",
    "outputId": "85a79d95-8f09-4dd7-f73b-f8d6336ef4b1"
   },
   "outputs": [
    {
     "data": {
      "image/png": "[encoded data removed]",
      "text/plain": [
       "<Figure size 1440x1440 with 10 Axes>"
      ]
     },
     "metadata": {
      "needs_background": "light"
     },
     "output_type": "display_data"
    }
   ],
   "source": [
    "# Loading digits dataset from sklearn\n",
    "\n",
    "main_data = load_digits()\n",
    "\n",
    "plt.figure(figsize = (20, 20))\n",
    "\n",
    "for i in range(10):\n",
    "    plt.subplot(8, 8, i + 1)\n",
    "    plt.imshow(main_data.images[i])"
   ]
  },
  {
   "cell_type": "markdown",
   "metadata": {
    "id": "8comeL0Jg_Zx"
   },
   "source": [
    "-->Spliting Train-Test : 80% - 20%"
   ]
  },
  {
   "cell_type": "code",
   "execution_count": 4,
   "metadata": {
    "id": "AjO2h-yvbnyi"
   },
   "outputs": [],
   "source": [
    "from sklearn.model_selection import train_test_split\n",
    "\n",
    "X_train, X_test, Y_train, Y_test = train_test_split(main_data.data, main_data.target, test_size = 0.20, random_state = 48) "
   ]
  },
  {
   "cell_type": "code",
   "execution_count": 6,
   "metadata": {
    "colab": {
     "base_uri": "https://localhost:8080/"
    },
    "id": "k9pquAPAgVbp",
    "outputId": "afce1037-6af8-401c-d117-a150de3fe191"
   },
   "outputs": [
    {
     "name": "stdout",
     "output_type": "stream",
     "text": [
      "Accuracy :- 0.8333333333333334\n"
     ]
    }
   ],
   "source": [
    "# Gaussina models\n",
    "\n",
    "gnb = GaussianNB()\n",
    "\n",
    "# train model\n",
    "gnb.fit(X_train, Y_train)\n",
    "\n",
    "# training completed\n",
    "Y_predicted = gnb.predict(X_test)\n",
    "\n",
    "print(f\"Accuracy :- {metrics.accuracy_score(Y_test, Y_predicted)}\")"
   ]
  },
  {
   "cell_type": "code",
   "execution_count": 7,
   "metadata": {
    "colab": {
     "base_uri": "https://localhost:8080/"
    },
    "id": "6I6r-SEWhwLY",
    "outputId": "4f4ffd54-33ae-46f3-a1a3-9daadb191caa"
   },
   "outputs": [
    {
     "data": {
      "text/plain": [
       "array([[ 0.,  0.,  7., 15., 13.,  1.,  0.,  0.],\n",
       "       [ 0.,  8., 13.,  6., 15.,  4.,  0.,  0.],\n",
       "       [ 0.,  2.,  1., 13., 13.,  0.,  0.,  0.],\n",
       "       [ 0.,  0.,  2., 15., 11.,  1.,  0.,  0.],\n",
       "       [ 0.,  0.,  0.,  1., 12., 12.,  1.,  0.],\n",
       "       [ 0.,  0.,  0.,  0.,  1., 10.,  8.,  0.],\n",
       "       [ 0.,  0.,  8.,  4.,  5., 14.,  9.,  0.],\n",
       "       [ 0.,  0.,  7., 13., 13.,  9.,  0.,  0.]])"
      ]
     },
     "execution_count": 7,
     "metadata": {},
     "output_type": "execute_result"
    }
   ],
   "source": [
    "main_data.images[3]"
   ]
  },
  {
   "cell_type": "markdown",
   "metadata": {
    "id": "TR54hCAb7VCN"
   },
   "source": [
    " True Prediction"
   ]
  },
  {
   "cell_type": "code",
   "execution_count": 8,
   "metadata": {
    "colab": {
     "base_uri": "https://localhost:8080/",
     "height": 168
    },
    "id": "JnBMS03UjWKh",
    "outputId": "ea25422a-5e46-4488-b9d5-15049aaf43ba"
   },
   "outputs": [
    {
     "data": {
      "image/png": "[encoded data removed]",
      "text/plain": [
       "<Figure size 720x216 with 4 Axes>"
      ]
     },
     "metadata": {
      "needs_background": "light"
     },
     "output_type": "display_data"
    }
   ],
   "source": [
    "_, axes = plt.subplots(nrows=1, ncols=4, figsize=(10, 3))\n",
    "for ax, image, prediction in zip(axes, X_test, Y_predicted):\n",
    "    ax.set_axis_off()\n",
    "    image = image.reshape(8, 8)\n",
    "    ax.imshow(image, cmap=plt.cm.gray_r, interpolation='nearest')\n",
    "    ax.set_title(f'Prediction: {prediction}')"
   ]
  },
  {
   "cell_type": "code",
   "execution_count": 10,
   "metadata": {
    "colab": {
     "base_uri": "https://localhost:8080/"
    },
    "id": "jPSKGz7_7QjH",
    "outputId": "1412bade-0c89-40c3-bc4c-e1c9978e7a9c"
   },
   "outputs": [
    {
     "name": "stdout",
     "output_type": "stream",
     "text": [
      "Classification report for classifier GaussianNB():\n",
      "              precision    recall  f1-score   support\n",
      "\n",
      "           0       1.00      0.97      0.99        36\n",
      "           1       0.66      0.95      0.78        43\n",
      "           2       0.91      0.76      0.83        42\n",
      "           3       0.89      0.76      0.82        33\n",
      "           4       0.94      0.77      0.85        44\n",
      "           5       0.94      0.71      0.81        24\n",
      "           6       0.91      0.95      0.93        43\n",
      "           7       0.68      1.00      0.81        25\n",
      "           8       0.69      0.68      0.68        40\n",
      "           9       0.92      0.77      0.84        30\n",
      "\n",
      "    accuracy                           0.83       360\n",
      "   macro avg       0.86      0.83      0.83       360\n",
      "weighted avg       0.86      0.83      0.83       360\n",
      "\n",
      "\n"
     ]
    }
   ],
   "source": [
    "print(f\"Classification report for classifier {gnb}:\\n\"\n",
    "      f\"{metrics.classification_report(Y_test, Y_predicted)}\\n\")"
   ]
  },
  {
   "cell_type": "code",
   "execution_count": 12,
   "metadata": {
    "colab": {
     "base_uri": "https://localhost:8080/",
     "height": 495
    },
    "id": "0xG_RxGm7x1G",
    "outputId": "dab04b96-f011-41bc-d663-218b0d57af51"
   },
   "outputs": [
    {
     "name": "stdout",
     "output_type": "stream",
     "text": [
      "Confusion matrix:\n",
      "[[35  1  0  0  0  0  0  0  0  0]\n",
      " [ 0 41  0  0  0  0  0  0  2  0]\n",
      " [ 0  2 32  1  0  0  2  0  5  0]\n",
      " [ 0  1  3 25  0  0  0  0  3  1]\n",
      " [ 0  3  0  0 34  0  1  5  1  0]\n",
      " [ 0  2  0  1  0 17  0  3  0  1]\n",
      " [ 0  1  0  0  1  0 41  0  0  0]\n",
      " [ 0  0  0  0  0  0  0 25  0  0]\n",
      " [ 0  8  0  1  0  0  0  4 27  0]\n",
      " [ 0  3  0  0  1  1  1  0  1 23]]\n"
     ]
    },
    {
     "data": {
      "image/png": "[encoded data removed]",
      "text/plain": [
       "<Figure size 432x288 with 2 Axes>"
      ]
     },
     "metadata": {
      "needs_background": "light"
     },
     "output_type": "display_data"
    }
   ],
   "source": [
    "disp = metrics.plot_confusion_matrix(gnb, X_test, Y_test)\n",
    "disp.figure_.suptitle(\"Confusion Matrix\")\n",
    "print(f\"Confusion matrix:\\n{disp.confusion_matrix}\")\n",
    "\n",
    "plt.show()"
   ]
  },
  {
   "cell_type": "code",
   "execution_count": null,
   "metadata": {
    "id": "7CUOzfhC79AO"
   },
   "outputs": [],
   "source": []
  }
 ],
 "metadata": {
  "colab": {
   "collapsed_sections": [],
   "name": "Lab_03_digits_Processing.ipynb",
   "provenance": []
  },
  "kernelspec": {
   "display_name": "Python 3",
   "language": "python",
   "name": "python3"
  },
  "language_info": {
   "codemirror_mode": {
    "name": "ipython",
    "version": 3
   },
   "file_extension": ".py",
   "mimetype": "text/x-python",
   "name": "python",
   "nbconvert_exporter": "python",
   "pygments_lexer": "ipython3",
   "version": "3.7.5"
  }
 },
 "nbformat": 4,
 "nbformat_minor": 1
}
